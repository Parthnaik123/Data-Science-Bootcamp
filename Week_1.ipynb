{
  "metadata": {
    "kernelspec": {
      "name": "python",
      "display_name": "Python (Pyodide)",
      "language": "python"
    },
    "language_info": {
      "codemirror_mode": {
        "name": "python",
        "version": 3
      },
      "file_extension": ".py",
      "mimetype": "text/x-python",
      "name": "python",
      "nbconvert_exporter": "python",
      "pygments_lexer": "ipython3",
      "version": "3.8"
    },
    "colab": {
      "provenance": []
    }
  },
  "nbformat_minor": 0,
  "nbformat": 4,
  "cells": [
    {
      "cell_type": "markdown",
      "source": [
        "# Python Practice Exercises\n",
        "Solutions to various Python problems"
      ],
      "metadata": {
        "id": "yq7KrWwe0JDC"
      }
    },
    {
      "cell_type": "markdown",
      "source": [
        "## 1. Fibonacci Series"
      ],
      "metadata": {
        "id": "jHNsoTqM0JDL"
      }
    },
    {
      "cell_type": "code",
      "source": [
        "# Fibonacci Series up to 10 terms\n",
        "a, b = 0, 1\n",
        "fib_series = []\n",
        "for _ in range(10):\n",
        "    fib_series.append(a)\n",
        "    a, b = b, a + b\n",
        "print(\"Fibonacci series:\", fib_series)"
      ],
      "metadata": {
        "colab": {
          "base_uri": "https://localhost:8080/"
        },
        "id": "uyaGb47W0JDL",
        "outputId": "f02e2bd0-7f5b-4d5d-a735-b1f3a2b35a98"
      },
      "outputs": [
        {
          "output_type": "stream",
          "name": "stdout",
          "text": [
            "Fibonacci series: [0, 1, 1, 2, 3, 5, 8, 13, 21, 34]\n"
          ]
        }
      ],
      "execution_count": 18
    },
    {
      "cell_type": "markdown",
      "source": [
        "## 2. Odd Index Elements"
      ],
      "metadata": {
        "id": "y_QRmQGO0JDM"
      }
    },
    {
      "cell_type": "code",
      "source": [
        "# Display elements at odd indices\n",
        "my_list = [0, 1, 2, 3, 4, 5, 6, 7, 8, 9]\n",
        "print(\"Elements at odd indices:\")\n",
        "for index in range(len(my_list)):\n",
        "    if index % 2 != 0:\n",
        "        print(my_list[index])"
      ],
      "metadata": {
        "colab": {
          "base_uri": "https://localhost:8080/"
        },
        "id": "_-JLuZ3W0JDM",
        "outputId": "bf23d440-f020-4eee-9fd0-4c73673cca48"
      },
      "outputs": [
        {
          "output_type": "stream",
          "name": "stdout",
          "text": [
            "Elements at odd indices:\n",
            "1\n",
            "3\n",
            "5\n",
            "7\n",
            "9\n"
          ]
        }
      ],
      "execution_count": 19
    },
    {
      "cell_type": "markdown",
      "source": [
        "## 3. Unique Word Count"
      ],
      "metadata": {
        "id": "JJTt-hqX0JDM"
      }
    },
    {
      "cell_type": "code",
      "source": [
        "# Count unique words in text\n",
        "text = \"\"\"I have provided this text to provide tips on creating interesting paragraphs.\n",
        "First, start with a clear topic sentence that introduces the main idea.\n",
        "Then, support the topic sentence with specific details, examples, and evidence.\n",
        "Vary the sentence length and structure to keep the reader engaged.\n",
        "Finally, end with a strong concluding sentence that summarizes the main points.\n",
        "Remember, practice makes perfect!\"\"\"\n",
        "\n",
        "words = text.split()\n",
        "unique_words = set()\n",
        "\n",
        "for word in words:\n",
        "    cleaned_word = word.strip('.,!').lower()\n",
        "    unique_words.add(cleaned_word)\n",
        "\n",
        "print(\"Number of unique words:\", len(unique_words))"
      ],
      "metadata": {
        "colab": {
          "base_uri": "https://localhost:8080/"
        },
        "id": "-Zk0mr7N0JDN",
        "outputId": "b2301a33-9aa3-416f-edf7-f2f9690cb66c"
      },
      "outputs": [
        {
          "output_type": "stream",
          "name": "stdout",
          "text": [
            "Number of unique words: 47\n"
          ]
        }
      ],
      "execution_count": 20
    },
    {
      "cell_type": "markdown",
      "source": [
        "## 4. Vowel Counter Function"
      ],
      "metadata": {
        "id": "lKo91VRf0JDN"
      }
    },
    {
      "cell_type": "code",
      "source": [
        "# Count vowels in a word\n",
        "def count_vowels(word):\n",
        "    vowels = {'a', 'e', 'i', 'o', 'u'}\n",
        "    return sum(1 for char in word.lower() if char in vowels)\n",
        "\n",
        "# Example usage:\n",
        "print(\"Vowels in 'Hello':\", count_vowels(\"Hello\"))"
      ],
      "metadata": {
        "colab": {
          "base_uri": "https://localhost:8080/"
        },
        "id": "4rmTFE0v0JDN",
        "outputId": "af7e00d2-5187-4916-915c-00dd86968cbe"
      },
      "outputs": [
        {
          "output_type": "stream",
          "name": "stdout",
          "text": [
            "Vowels in 'Hello': 2\n"
          ]
        }
      ],
      "execution_count": 21
    },
    {
      "cell_type": "markdown",
      "source": [
        "## 5. Uppercase Animals"
      ],
      "metadata": {
        "id": "zU6Q71BT0JDN"
      }
    },
    {
      "cell_type": "code",
      "source": [
        "# Print animals in uppercase\n",
        "animals = ['tiger', 'elephant', 'monkey', 'zebra', 'panther']\n",
        "for animal in animals:\n",
        "    print(animal.upper())"
      ],
      "metadata": {
        "colab": {
          "base_uri": "https://localhost:8080/"
        },
        "id": "HUN8_XXW0JDN",
        "outputId": "82834679-9440-4f41-b2f3-4cf9a363f13b"
      },
      "outputs": [
        {
          "output_type": "stream",
          "name": "stdout",
          "text": [
            "TIGER\n",
            "ELEPHANT\n",
            "MONKEY\n",
            "ZEBRA\n",
            "PANTHER\n"
          ]
        }
      ],
      "execution_count": 22
    },
    {
      "cell_type": "markdown",
      "source": [
        "## 6. Odd/Even Check"
      ],
      "metadata": {
        "id": "-oQtOS400JDO"
      }
    },
    {
      "cell_type": "code",
      "source": [
        "# Odd/Even numbers 1-20\n",
        "for num in range(1, 21):\n",
        "    print(f\"{num} is {'even' if num % 2 == 0 else 'odd'}\")"
      ],
      "metadata": {
        "colab": {
          "base_uri": "https://localhost:8080/"
        },
        "id": "HkNFSPXw0JDO",
        "outputId": "47add336-55d3-4843-df6e-577859908ea5"
      },
      "outputs": [
        {
          "output_type": "stream",
          "name": "stdout",
          "text": [
            "1 is odd\n",
            "2 is even\n",
            "3 is odd\n",
            "4 is even\n",
            "5 is odd\n",
            "6 is even\n",
            "7 is odd\n",
            "8 is even\n",
            "9 is odd\n",
            "10 is even\n",
            "11 is odd\n",
            "12 is even\n",
            "13 is odd\n",
            "14 is even\n",
            "15 is odd\n",
            "16 is even\n",
            "17 is odd\n",
            "18 is even\n",
            "19 is odd\n",
            "20 is even\n"
          ]
        }
      ],
      "execution_count": 23
    },
    {
      "cell_type": "markdown",
      "source": [
        "## 7. Sum of Integers"
      ],
      "metadata": {
        "id": "pGreqTva0JDO"
      }
    },
    {
      "cell_type": "code",
      "source": [
        "# Sum of two integers\n",
        "def sum_of_integers():\n",
        "    a = int(input(\"Enter first integer: \"))\n",
        "    b = int(input(\"Enter second integer: \"))\n",
        "    return a + b\n",
        "\n",
        "print(\"Sum:\", sum_of_integers())"
      ],
      "metadata": {
        "colab": {
          "base_uri": "https://localhost:8080/"
        },
        "id": "b9UM7cSv0JDO",
        "outputId": "706a3169-0566-4928-e4c7-eb13cf6555cf"
      },
      "outputs": [
        {
          "output_type": "stream",
          "name": "stdout",
          "text": [
            "Enter first integer: 1\n",
            "Enter second integer: 2\n",
            "Sum: 3\n"
          ]
        }
      ],
      "execution_count": 24
    }
  ]
}