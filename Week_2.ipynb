{
  "cells": [
    {
      "cell_type": "code",
      "execution_count": 1,
      "id": "b39b6942",
      "metadata": {
        "id": "b39b6942"
      },
      "outputs": [],
      "source": [
        "\n",
        "import numpy as np\n",
        "import pandas as pd\n",
        ""
      ]
    },
    {
      "cell_type": "markdown",
      "id": "3182af6b",
      "metadata": {
        "id": "3182af6b"
      },
      "source": [
        "## Part 1 - Numpy"
      ]
    },
    {
      "cell_type": "code",
      "execution_count": 2,
      "id": "9024cbef",
      "metadata": {
        "colab": {
          "base_uri": "https://localhost:8080/"
        },
        "id": "9024cbef",
        "outputId": "f576302c-440d-42ce-8a2b-37f49a2ace7f"
      },
      "outputs": [
        {
          "output_type": "stream",
          "name": "stdout",
          "text": [
            "Vertical Stack:\n",
            " [[ 1  2  3]\n",
            " [ 4  5  6]\n",
            " [ 7  8  9]\n",
            " [10 11 12]]\n",
            "Horizontal Stack:\n",
            " [[ 1  2  3  7  8  9]\n",
            " [ 4  5  6 10 11 12]]\n"
          ]
        }
      ],
      "source": [
        "\n",
        "# Define custom arrays\n",
        "A = np.array([[1, 2, 3], [4, 5, 6]])\n",
        "B = np.array([[7, 8, 9], [10, 11, 12]])\n",
        "\n",
        "# Stack vertically\n",
        "vertical_stack = np.vstack((A, B))\n",
        "\n",
        "# Stack horizontally\n",
        "horizontal_stack = np.hstack((A, B))\n",
        "\n",
        "print(\"Vertical Stack:\\n\", vertical_stack)\n",
        "print(\"Horizontal Stack:\\n\", horizontal_stack)\n",
        ""
      ]
    },
    {
      "cell_type": "code",
      "execution_count": 3,
      "id": "afde7bcc",
      "metadata": {
        "colab": {
          "base_uri": "https://localhost:8080/"
        },
        "id": "afde7bcc",
        "outputId": "dcf9b087-57e1-491f-c1c2-fe6257083aef"
      },
      "outputs": [
        {
          "output_type": "stream",
          "name": "stdout",
          "text": [
            "Common Elements: []\n"
          ]
        }
      ],
      "source": [
        "\n",
        "common_elements = np.intersect1d(A, B)\n",
        "print(\"Common Elements:\", common_elements)\n",
        ""
      ]
    },
    {
      "cell_type": "code",
      "execution_count": 4,
      "id": "0826d345",
      "metadata": {
        "colab": {
          "base_uri": "https://localhost:8080/"
        },
        "id": "0826d345",
        "outputId": "3c107ea3-a7ae-45a3-f1aa-79f86ef89209"
      },
      "outputs": [
        {
          "output_type": "stream",
          "name": "stdout",
          "text": [
            "Numbers in A between 5 and 10: [5 6]\n"
          ]
        }
      ],
      "source": [
        "\n",
        "filtered_A = A[(A >= 5) & (A <= 10)]\n",
        "print(\"Numbers in A between 5 and 10:\", filtered_A)\n",
        ""
      ]
    },
    {
      "cell_type": "code",
      "execution_count": 5,
      "id": "92a9d390",
      "metadata": {
        "colab": {
          "base_uri": "https://localhost:8080/"
        },
        "id": "92a9d390",
        "outputId": "93a9b9f7-68c1-40ba-d207-e72f119d55a9"
      },
      "outputs": [
        {
          "output_type": "stream",
          "name": "stdout",
          "text": [
            "Filtered Rows:\n",
            " [[4.8 3.4 1.6 0.2]\n",
            " [4.8 3.4 1.9 0.2]\n",
            " [4.7 3.2 1.6 0.2]\n",
            " [4.8 3.1 1.6 0.2]\n",
            " [4.9 2.4 3.3 1. ]\n",
            " [4.9 2.5 4.5 1.7]]\n"
          ]
        }
      ],
      "source": [
        "\n",
        "url = 'https://archive.ics.uci.edu/ml/machine-learning-databases/iris/iris.data'\n",
        "iris_2d = np.genfromtxt(url, delimiter=',', dtype='float', usecols=[0,1,2,3])\n",
        "\n",
        "filtered_rows = iris_2d[(iris_2d[:, 2] > 1.5) & (iris_2d[:, 0] < 5.0)]\n",
        "print(\"Filtered Rows:\\n\", filtered_rows)\n",
        ""
      ]
    },
    {
      "cell_type": "markdown",
      "id": "55f1f05d",
      "metadata": {
        "id": "55f1f05d"
      },
      "source": [
        "## Part 2 - Pandas"
      ]
    },
    {
      "cell_type": "code",
      "execution_count": 6,
      "id": "1fa922e7",
      "metadata": {
        "colab": {
          "base_uri": "https://localhost:8080/"
        },
        "id": "1fa922e7",
        "outputId": "602f29b0-cdf4-4a36-977f-2429642f253f"
      },
      "outputs": [
        {
          "output_type": "stream",
          "name": "stdout",
          "text": [
            "   Manufacturer    Model     Type\n",
            "0         Acura  Integra    Small\n",
            "20     Chrysler  LeBaron  Compact\n",
            "40        Honda  Prelude   Sporty\n",
            "60      Mercury   Cougar  Midsize\n",
            "80       Subaru   Loyale    Small\n"
          ]
        }
      ],
      "source": [
        "\n",
        "df = pd.read_csv('https://raw.githubusercontent.com/selva86/datasets/master/Cars93_miss.csv')\n",
        "\n",
        "filtered_df = df.loc[::20, ['Manufacturer', 'Model', 'Type']]\n",
        "print(filtered_df)\n",
        ""
      ]
    },
    {
      "cell_type": "code",
      "execution_count": 7,
      "id": "7ea2ec8b",
      "metadata": {
        "colab": {
          "base_uri": "https://localhost:8080/"
        },
        "id": "7ea2ec8b",
        "outputId": "874328b0-64b0-456e-8696-ab537031e5fa"
      },
      "outputs": [
        {
          "output_type": "stream",
          "name": "stdout",
          "text": [
            "Min.Price    0\n",
            "Max.Price    0\n",
            "dtype: int64\n"
          ]
        }
      ],
      "source": [
        "\n",
        "df[['Min.Price', 'Max.Price']] = df[['Min.Price', 'Max.Price']].apply(lambda x: x.fillna(x.mean()))\n",
        "print(df[['Min.Price', 'Max.Price']].isnull().sum())  # Verify no missing values\n",
        ""
      ]
    },
    {
      "cell_type": "code",
      "execution_count": 8,
      "id": "cdfd94bc",
      "metadata": {
        "colab": {
          "base_uri": "https://localhost:8080/"
        },
        "id": "cdfd94bc",
        "outputId": "7cda06c1-e13f-4a99-9dd5-188f871320f4"
      },
      "outputs": [
        {
          "output_type": "stream",
          "name": "stdout",
          "text": [
            "Rows where row sum > 100:\n",
            "      0   1   2   3\n",
            "0   26  29  22  36\n",
            "5   29  28  22  37\n",
            "7   25  37  38  26\n",
            "9   15  25  36  36\n",
            "10  16  32  36  30\n",
            "11  16  37  35  16\n",
            "13  20  39  31  36\n",
            "14  25  26  31  22\n"
          ]
        }
      ],
      "source": [
        "\n",
        "df = pd.DataFrame(np.random.randint(10, 40, 60).reshape(-1, 4))\n",
        "\n",
        "# Find rows where sum > 100\n",
        "filtered_rows = df[df.sum(axis=1) > 100]\n",
        "print(\"Rows where row sum > 100:\\n\", filtered_rows)\n",
        ""
      ]
    }
  ],
  "metadata": {
    "colab": {
      "provenance": []
    },
    "language_info": {
      "name": "python"
    },
    "kernelspec": {
      "name": "python3",
      "display_name": "Python 3"
    }
  },
  "nbformat": 4,
  "nbformat_minor": 5
}